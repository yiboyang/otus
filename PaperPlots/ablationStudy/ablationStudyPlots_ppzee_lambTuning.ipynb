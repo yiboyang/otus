{
 "cells": [
  {
   "cell_type": "markdown",
   "metadata": {},
   "source": [
    "# OTUS Ablation Study Paper Plots | $p p > Z > e^+ e^-$"
   ]
  },
  {
   "cell_type": "markdown",
   "metadata": {},
   "source": [
    "This notebook creates the plots which are found in the paper: https://arxiv.org/abs/2101.08944. "
   ]
  },
  {
   "cell_type": "markdown",
   "metadata": {},
   "source": [
    "# Load Required Libraries"
   ]
  },
  {
   "cell_type": "code",
   "execution_count": 1,
   "metadata": {},
   "outputs": [],
   "source": [
    "%matplotlib inline\n",
    "import matplotlib.pyplot as plt\n",
    "import seaborn as sns\n",
    "import numpy as np\n",
    "import matplotlib.cm as cm\n",
    "from scipy import stats\n",
    "\n",
    "# Add utilityFunctions/ to easily use utility .py files\n",
    "import sys\n",
    "sys.path.append(\"../../utilityFunctions\")"
   ]
  },
  {
   "cell_type": "markdown",
   "metadata": {},
   "source": [
    "# Meta Parameters"
   ]
  },
  {
   "cell_type": "code",
   "execution_count": 2,
   "metadata": {},
   "outputs": [
    {
     "name": "stdout",
     "output_type": "stream",
     "text": [
      "lamb =  100\n"
     ]
    }
   ],
   "source": [
    "#-- Set appropriate lambda value --#\n",
    "# allLambs    = [0.001, 0.01, 0.1, 1, 10, 100, 1000]\n",
    "selectLambs = [0.001, 1, 100]\n",
    "lamb = selectLambs[2]\n",
    "print('lamb = ', lamb)"
   ]
  },
  {
   "cell_type": "code",
   "execution_count": 3,
   "metadata": {},
   "outputs": [],
   "source": [
    "save_figs = True  # Global switch to turn on saving figures to files\n",
    "N_slices  = 1000  # Global number of slices to calculate SW distance with\n",
    "\n",
    "data_directory    = '../../data/'\n",
    "dataset_name      = 'ppzee'\n",
    "results_dataPath  = '../../experiments/'+dataset_name+f'/ablationStudy/lambda_tuning/npzFiles/swae-lamb={lamb}.npz'\n",
    "img_dir           = dataset_name+'_lambTuningImages/'\n",
    "\n",
    "np.random.seed(4) # Set numpy random seed"
   ]
  },
  {
   "cell_type": "markdown",
   "metadata": {},
   "source": [
    "# Get Truth Datasets and Model Results"
   ]
  },
  {
   "cell_type": "markdown",
   "metadata": {},
   "source": [
    "The data was split into training, validation, and two testing sets. We load only the validation datasets here and split them in two. We also load in the model results calculated on one of the testing datasets.  \n",
    "\n",
    "Note that we have two separate validation sets to ensure the independence of samples when performing statistical tests.\n",
    "\n",
    "Specifically, we have 4 initial datasets: x_val1, z_val1, x_val2, and z_val2.\n",
    "\n",
    "Validation set 1 has been used to obtain network results. These results will be compared to the independent validation set 2.\n",
    "\n",
    "For testing the encoder's performance we will use the following convention:\n",
    "- z_pred_val1 = E(x_val1, $\\epsilon$)\n",
    "\n",
    "In plots this will be denoted as $x \\rightarrow \\tilde{z}$.\n",
    "\n",
    "For testing the decoder's performance we will use the following convention:\n",
    "- x_pred_truth_val1 = D(z_val1, $\\epsilon$)\n",
    "\n",
    "In plots this will be denoted as $z \\rightarrow \\tilde{x}'$.\n",
    "\n",
    "For testing the overall performance of the full encoder-decoder chain we will use the following convention:\n",
    "- x_pred_val1 = D(E(x_val1, $\\epsilon$), $\\epsilon$)\n",
    "\n",
    "In plots this will be denoted as $x \\rightarrow \\tilde{z} \\rightarrow \\tilde{x}$.\n",
    "\n",
    "Note that $\\epsilon$ denotes the random noise input of the networks. Note that all $\\epsilon$ are different random samples. This happens internally and thus won't be shown in what follows."
   ]
  },
  {
   "cell_type": "markdown",
   "metadata": {},
   "source": [
    "## Load in Validation Data and Results"
   ]
  },
  {
   "cell_type": "code",
   "execution_count": 4,
   "metadata": {},
   "outputs": [
    {
     "name": "stdout",
     "output_type": "stream",
     "text": [
      "z_val1 Shape, x_val1 Shape:  (20000, 8) (20000, 8)\n",
      "z_val2 Shape, x_val2 Shape:  (20000, 8) (20000, 8)\n"
     ]
    }
   ],
   "source": [
    "valData = np.load(results_dataPath)\n",
    "\n",
    "#-- Load truth data --#\n",
    "zData = valData['z']\n",
    "xData = valData['x']\n",
    "\n",
    "#-- Load results data --#\n",
    "zPred      = valData['x_encoded']        # E(x)\n",
    "xPred      = valData['x_reconstructed']  # D(E(x))\n",
    "xPredTruth = valData['z_decoded']        # D(z)\n",
    "\n",
    "#-- Split data into the two separate validation sets --#\n",
    "f = int(0.5*zData.shape[0])\n",
    "\n",
    "x_val1  = xData[0:f]\n",
    "z_val1  = zData[0:f]\n",
    "\n",
    "x_val2  = xData[f:]\n",
    "z_val2  = zData[f:]\n",
    "\n",
    "#-- Make sure validation sets have the same number of events --#\n",
    "assert(x_val1.shape[0] == x_val2.shape[0])\n",
    "assert(z_val1.shape[0] == z_val2.shape[0])\n",
    "print('z_val1 Shape, x_val1 Shape: ', z_val1.shape, x_val1.shape)\n",
    "print('z_val2 Shape, x_val2 Shape: ', z_val2.shape, x_val2.shape)\n",
    "\n",
    "#-- Get predicted z for x_val1, E(x_val1) --#\n",
    "z_pred_val1 = zPred[0:f]\n",
    "\n",
    "#-- Get predicted x for full autoencoder chain, D(E(x_val1)) --#\n",
    "x_pred_val1 = xPred[0:f]\n",
    "\n",
    "#-- Get predicted x for true z_val1, D(z_val1) --#\n",
    "x_pred_truth_val1 = xPredTruth[0:f]   "
   ]
  },
  {
   "cell_type": "markdown",
   "metadata": {},
   "source": [
    "# Define Statistical Tests That We Will Use"
   ]
  },
  {
   "cell_type": "markdown",
   "metadata": {},
   "source": [
    "For each one-dimensional distribution we will perform the following statistical tests:\n",
    "\n",
    "- $\\chi^2$\n",
    "- 2-sample, 2-sided Kolmogorov-Smirov test\n",
    "\n",
    "We will also report the 1D Wasserstein distance.\n",
    "\n",
    "z-space plots will compare\n",
    "- z_val2 with z_pred_val1 \n",
    "\n",
    "In plots this will be denoted as $z$ vs $\\tilde{z}$. \n",
    "\n",
    "x-space plots will compare\n",
    "- x_val2 with x_pred_val1 \n",
    "\n",
    "In plots this will be denoted as $x$ vs $\\tilde{x}$. \n",
    "- x_val2 with x_pred_truth_val1 \n",
    "\n",
    "In plots this will be denoted as $x$ vs $\\tilde{x}'$.\n"
   ]
  },
  {
   "cell_type": "markdown",
   "metadata": {},
   "source": [
    "## Import statistical test functions"
   ]
  },
  {
   "cell_type": "code",
   "execution_count": 5,
   "metadata": {},
   "outputs": [],
   "source": [
    "from func_utils import runStatAnalysis\n",
    "from func_utils import sliced_wd_numpy as avSWDistance\n",
    "# ReducedChiSq(), W1Dist() #?, KSTest(), runStatAnalysis(), generateTheta() #?, avSWDistance() #?"
   ]
  },
  {
   "cell_type": "markdown",
   "metadata": {},
   "source": [
    "## Calculate SW Distance Results (Global Metric) Over N_Slices"
   ]
  },
  {
   "cell_type": "markdown",
   "metadata": {},
   "source": [
    "### z-space results"
   ]
  },
  {
   "cell_type": "code",
   "execution_count": 6,
   "metadata": {},
   "outputs": [
    {
     "name": "stdout",
     "output_type": "stream",
     "text": [
      "SW distance $z$ vs $\\tilde{z}$:  1.9276431974871424\n"
     ]
    }
   ],
   "source": [
    "print(r\"SW distance $z$ vs $\\tilde{z}$: \", avSWDistance(z_val2, z_pred_val1, N_slices))"
   ]
  },
  {
   "cell_type": "markdown",
   "metadata": {},
   "source": [
    "### x-space results"
   ]
  },
  {
   "cell_type": "code",
   "execution_count": 7,
   "metadata": {},
   "outputs": [
    {
     "name": "stdout",
     "output_type": "stream",
     "text": [
      "SW distance $x$ vs $\\tilde{x}$:  3.490635614148151\n",
      "SW distance $x$ vs $\\tilde{x}^\\prime$:  31.121357671907372\n"
     ]
    }
   ],
   "source": [
    "print(r\"SW distance $x$ vs $\\tilde{x}$: \", avSWDistance(x_val2, x_pred_val1, N_slices))\n",
    "print(r\"SW distance $x$ vs $\\tilde{x}^\\prime$: \", avSWDistance(x_val2, x_pred_truth_val1, N_slices))"
   ]
  },
  {
   "cell_type": "markdown",
   "metadata": {},
   "source": [
    "## Run Statistical Analysis for Principal Axes"
   ]
  },
  {
   "cell_type": "markdown",
   "metadata": {},
   "source": [
    "We run the statistical analysis on the principal axis plots that are shown in the paper. These plots are for the positron's ($e^+$) $p_Y$, $p_Z$, and $E$ in both z-space and x-space.  \n",
    "\n",
    "We first find the correct binning such that no bin has less than 5 entries (necessary for $\\chi^2$ test). We store this binning in a list to use in later plotting."
   ]
  },
  {
   "cell_type": "markdown",
   "metadata": {},
   "source": [
    "### z-space Find Correct Binning"
   ]
  },
  {
   "cell_type": "code",
   "execution_count": 8,
   "metadata": {},
   "outputs": [
    {
     "name": "stdout",
     "output_type": "stream",
     "text": [
      "Number of entries in each bin:  [  13.   49.  385.  885. 1198. 1172. 1149. 1183. 1031.  989.  880.  888.\n",
      "  927.  877.  962. 1064. 1170. 1248. 1231. 1183. 1013.  427.   58.   14.]\n",
      "Do any bins have less than 5 entries?  False\n"
     ]
    }
   ],
   "source": [
    "# Want to find binsY such that n has no bins with <5 entries\n",
    "binsY = [-100, -60] + [-50+5*i for i in range(20+1)] + [60, 100]\n",
    "n, _, _ = plt.hist(z_pred_val1[:,5], bins=binsY, histtype='step', density=False)\n",
    "print(\"Number of entries in each bin: \",n)\n",
    "print(\"Do any bins have less than 5 entries? \",np.any(n < 5))\n",
    "\n",
    "plt.close() # Don't show plot"
   ]
  },
  {
   "cell_type": "markdown",
   "metadata": {},
   "source": [
    "### x-space Find Correct Binning"
   ]
  },
  {
   "cell_type": "code",
   "execution_count": 9,
   "metadata": {},
   "outputs": [
    {
     "name": "stdout",
     "output_type": "stream",
     "text": [
      "Number of entries in each bin:  [   6.   41.  218.  761. 1163. 1295. 1240. 1147. 1121. 1016.  943.  895.\n",
      "  872.  924.  995. 1052. 1117. 1266. 1295. 1214.  985.  329.   85.   15.]\n",
      "Do any bins have less than 5 entries?  False\n"
     ]
    }
   ],
   "source": [
    "# Check if above z-space bins will work for x-space too\n",
    "n, _, _ = plt.hist(x_pred_val1[:,5], bins=binsY, histtype='step', density=False)\n",
    "print(\"Number of entries in each bin: \",n)\n",
    "print(\"Do any bins have less than 5 entries? \",np.any(n < 5))\n",
    "\n",
    "plt.close() # Don't show plot"
   ]
  },
  {
   "cell_type": "markdown",
   "metadata": {},
   "source": [
    "### Run statistical analysis for z-space principal axis data"
   ]
  },
  {
   "cell_type": "code",
   "execution_count": 10,
   "metadata": {},
   "outputs": [],
   "source": [
    "#-- Define suitable binning for principal axis data (obtained from above) --#\n",
    "bins_py = binsY       \n",
    "\n",
    "zbinsList = [bins_py]"
   ]
  },
  {
   "cell_type": "code",
   "execution_count": 11,
   "metadata": {},
   "outputs": [],
   "source": [
    "#-- z-space principal axis data --#\n",
    "zStatsList = []\n",
    "\n",
    "for j in range(len(zbinsList)):\n",
    "    \n",
    "    k = (j+1) + 4\n",
    "              \n",
    "    zStatsList.append(runStatAnalysis(z_pred_val1[:,k], z_val2[:,k], zbinsList[j]))\n"
   ]
  },
  {
   "cell_type": "code",
   "execution_count": 12,
   "metadata": {},
   "outputs": [
    {
     "name": "stdout",
     "output_type": "stream",
     "text": [
      "1\n",
      "W1D, KSstat, KSpval, RC2, dof, chi2pval\n",
      "(0.61681616, 0.012950000000000017, 0.06988211803559509, 10.579424077044393, 23, 0.0)\n",
      "\n",
      "W1D: 6.17E-01\n",
      "(KSstat, pval): (1.30E-02, 0.070)\n",
      "(RC2, dof, pval): (10.579, 23, 0.000)\n"
     ]
    }
   ],
   "source": [
    "#-- Demonstration of how to access statistical test information --#\n",
    "print(len(zStatsList))\n",
    "print('W1D, KSstat, KSpval, RC2, dof, chi2pval')\n",
    "print(zStatsList[0])\n",
    "print(\"\")\n",
    "print('W1D: %.2E'% zStatsList[0][0])\n",
    "print('(KSstat, pval): (%.2E, %.3f)' % (zStatsList[0][1], zStatsList[0][2]))\n",
    "print('(RC2, dof, pval): (%.3f, %d, %.3f)' % (zStatsList[0][3], zStatsList[0][4], zStatsList[0][5]))"
   ]
  },
  {
   "cell_type": "markdown",
   "metadata": {},
   "source": [
    "### Run statistical analysis for x-space principal axis  data"
   ]
  },
  {
   "cell_type": "code",
   "execution_count": 13,
   "metadata": {},
   "outputs": [],
   "source": [
    "xbinsList = zbinsList "
   ]
  },
  {
   "cell_type": "code",
   "execution_count": 14,
   "metadata": {},
   "outputs": [],
   "source": [
    "#-- x-space principal axis data --#\n",
    "xStatsList = []\n",
    "xStatsListTruth = []\n",
    "\n",
    "for j in range(len(xbinsList)):\n",
    "    \n",
    "    k = (j+1) + 4\n",
    "              \n",
    "    xStatsList.append(runStatAnalysis(x_pred_val1[:,k], x_val2[:,k], xbinsList[j]))\n",
    "        \n",
    "    xStatsListTruth.append(runStatAnalysis(x_pred_truth_val1[:,k], x_val2[:,k], xbinsList[j]))\n"
   ]
  },
  {
   "cell_type": "code",
   "execution_count": 15,
   "metadata": {},
   "outputs": [
    {
     "name": "stdout",
     "output_type": "stream",
     "text": [
      "1\n",
      "W1D, KSstat, KSpval, RC2, dof, chi2pval\n",
      "(1.8222783, 0.02635, 1.8630366025431484e-06, 9.072480685219235, 23, 0.0)\n",
      "\n",
      "W1D: 1.82E+00\n",
      "(KSstat, pval): (2.63E-02, 0.000)\n",
      "(RC2, dof, pval): (9.072, 23, 0.000)\n"
     ]
    }
   ],
   "source": [
    "#-- Demonstration of how to access statistical test information --#\n",
    "print(len(xStatsList))\n",
    "print('W1D, KSstat, KSpval, RC2, dof, chi2pval')\n",
    "print(xStatsList[0])\n",
    "print(\"\")\n",
    "print('W1D: %.2E'% xStatsList[0][0])\n",
    "print('(KSstat, pval): (%.2E, %.3f)' % (xStatsList[0][1], xStatsList[0][2]))\n",
    "print('(RC2, dof, pval): (%.3f, %d, %.3f)' % (xStatsList[0][3], xStatsList[0][4], xStatsList[0][5]))"
   ]
  },
  {
   "cell_type": "markdown",
   "metadata": {},
   "source": [
    "# Make Principal Axes Plots"
   ]
  },
  {
   "cell_type": "markdown",
   "metadata": {},
   "source": [
    "## Load Plotting Functions"
   ]
  },
  {
   "cell_type": "code",
   "execution_count": 16,
   "metadata": {},
   "outputs": [],
   "source": [
    "from plot_utils import ratioPlotSingle, ratioPlotDouble, transportPlot"
   ]
  },
  {
   "cell_type": "markdown",
   "metadata": {},
   "source": [
    "## Create Principal Axes Plots z-space"
   ]
  },
  {
   "cell_type": "code",
   "execution_count": 17,
   "metadata": {},
   "outputs": [
    {
     "data": {
      "image/png": "[encoded data removed]",
      "text/plain": [
       "<Figure size 432x576 with 2 Axes>"
      ]
     },
     "metadata": {
      "needs_background": "light"
     },
     "output_type": "display_data"
    }
   ],
   "source": [
    "#-- Plot this for the positron's py --#\n",
    "ratioPlotSingle(z_val2[:,5], z_pred_val1[:,5], zbinsList[0], (-100,100), (0,7000), (0., 6.05), \n",
    "                   r'Positron $p_y$ [GeV/c]', legend=True, save_figs=save_figs, img_dir=img_dir, ablLambda=f'lamb={lamb}') #zStatsList[0],"
   ]
  },
  {
   "cell_type": "markdown",
   "metadata": {},
   "source": [
    "## Create Principal Axes Plots x-space"
   ]
  },
  {
   "cell_type": "code",
   "execution_count": 18,
   "metadata": {},
   "outputs": [
    {
     "data": {
      "image/png": "[encoded data removed]",
      "text/plain": [
       "<Figure size 432x576 with 2 Axes>"
      ]
     },
     "metadata": {
      "needs_background": "light"
     },
     "output_type": "display_data"
    }
   ],
   "source": [
    "#-- Plot this for the positron's py --#\n",
    "ratioPlotDouble(x_val2[:,5], x_pred_val1[:,5], x_pred_truth_val1[:,5], xbinsList[0], \n",
    "                   (-100,100), (0,7000), (.25,1.95), \n",
    "                   r'Positron $p_y$ [GeV/c]', legend=True, save_figs=save_figs, img_dir=img_dir, ablLambda=f'lamb={lamb}')"
   ]
  },
  {
   "cell_type": "markdown",
   "metadata": {},
   "source": [
    "# Calculate Invariant Mass of Z Boson"
   ]
  },
  {
   "cell_type": "code",
   "execution_count": 19,
   "metadata": {},
   "outputs": [],
   "source": [
    "from func_utils import calcInvM"
   ]
  },
  {
   "cell_type": "code",
   "execution_count": 20,
   "metadata": {},
   "outputs": [],
   "source": [
    "#-- Calculate Invariant Mass of Z boson --#\n",
    "\n",
    "# x-space\n",
    "xpred_IM_Z      = calcInvM(x_pred_val1[:,0:4] + x_pred_val1[:,4:8])\n",
    "xval_IM_Z       = calcInvM(x_val2[:,0:4] + x_val2[:,4:8])\n",
    "xpredtruth_IM_Z = calcInvM(x_pred_truth_val1[:,0:4] + x_pred_truth_val1[:,4:8])"
   ]
  },
  {
   "cell_type": "markdown",
   "metadata": {},
   "source": [
    "## Perform Statistical Analysis"
   ]
  },
  {
   "cell_type": "markdown",
   "metadata": {},
   "source": [
    "### x-space Find Correct Binning and Compute Statistics"
   ]
  },
  {
   "cell_type": "code",
   "execution_count": 21,
   "metadata": {},
   "outputs": [
    {
     "name": "stdout",
     "output_type": "stream",
     "text": [
      "Number of entries in each bin:  [  28.   37.   55.   62.   68.   80.  105.  105.  160.  222.  259.  361.\n",
      "  491.  669.  873. 1061. 1329. 1541. 1689. 1715. 1729. 1476. 1265. 1045.\n",
      "  749.  582.  430.  309.  250.  166.  131.   91.   82.   63.   49.   45.\n",
      "   34.   32.   26.   18.]\n",
      "Do any bins have less than 5 entries?  False\n"
     ]
    }
   ],
   "source": [
    "# Want to find bins such that n has no bins with <5 entries\n",
    "bins = [70 + 1*i for i in range(40+1)]\n",
    "n, _, _ = plt.hist(xpred_IM_Z, bins=bins, histtype='step', density=False)\n",
    "print(\"Number of entries in each bin: \",n)\n",
    "print(\"Do any bins have less than 5 entries? \",np.any(n < 5))\n",
    "\n",
    "plt.close() # Don't show plot"
   ]
  },
  {
   "cell_type": "code",
   "execution_count": 22,
   "metadata": {},
   "outputs": [],
   "source": [
    "xIMstatsList = []\n",
    "xIMstatsListTruth = []\n",
    "\n",
    "xIMstatsList.append(runStatAnalysis(xpred_IM_Z, xval_IM_Z, bins))\n",
    "xIMstatsListTruth.append(runStatAnalysis(xpredtruth_IM_Z, xval_IM_Z, bins))"
   ]
  },
  {
   "cell_type": "markdown",
   "metadata": {},
   "source": [
    "## Plot x-space Invariant mass"
   ]
  },
  {
   "cell_type": "code",
   "execution_count": 23,
   "metadata": {
    "scrolled": false
   },
   "outputs": [
    {
     "data": {
      "image/png": "[encoded data removed]",
      "text/plain": [
       "<Figure size 432x576 with 2 Axes>"
      ]
     },
     "metadata": {
      "needs_background": "light"
     },
     "output_type": "display_data"
    }
   ],
   "source": [
    "ratioPlotDouble(xval_IM_Z, xpred_IM_Z, xpredtruth_IM_Z, bins, \n",
    "                   (70,110), (0,12000), (0.25,2.25),  \n",
    "                   r'$M_{Z}$ [GeV/$c^2$]', legend=True, save_figs=save_figs, img_dir=img_dir, ablLambda=f'lamb={lamb}') #xIMstatsList[0],  xIMstatsListTruth[0], "
   ]
  },
  {
   "cell_type": "markdown",
   "metadata": {},
   "source": [
    "# Create Transport Plots"
   ]
  },
  {
   "cell_type": "markdown",
   "metadata": {},
   "source": [
    "## Decoder $\\tilde{z} \\rightarrow \\tilde{x}$"
   ]
  },
  {
   "cell_type": "code",
   "execution_count": 24,
   "metadata": {},
   "outputs": [
    {
     "data": {
      "image/png": "[encoded data removed]",
      "text/plain": [
       "<Figure size 576x576 with 3 Axes>"
      ]
     },
     "metadata": {},
     "output_type": "display_data"
    }
   ],
   "source": [
    "#-- Make decoder transport plot from learned latent space--#\n",
    "\n",
    "# Positron energy\n",
    "Z = z_pred_val1[:,7].reshape(-1,1)\n",
    "X = x_pred_val1[:,7].reshape(-1,1)\n",
    "\n",
    "n = Z.shape[1]\n",
    "ZX = [np.concatenate((Z[:,i].reshape(-1,1), X[:,i].reshape(-1,1)), axis=1) for i in range(n)]\n",
    "\n",
    "transportPlot(ZX[0], zlim=(0,400), xlim=(0,400), nz=20, nx=20, name=f'decTransport_zpred_xpred_val_lamb={lamb}.png', dec=True, title=r'$\\hspace{4}$ OTUS encoder-decoder: $\\tilde{z} \\rightarrow \\tilde{x}$', save_figs=save_figs, img_dir=img_dir)"
   ]
  },
  {
   "cell_type": "code",
   "execution_count": null,
   "metadata": {},
   "outputs": [],
   "source": []
  }
 ],
 "metadata": {
  "kernelspec": {
   "display_name": "Python 3",
   "language": "python",
   "name": "python3"
  },
  "language_info": {
   "codemirror_mode": {
    "name": "ipython",
    "version": 3
   },
   "file_extension": ".py",
   "mimetype": "text/x-python",
   "name": "python",
   "nbconvert_exporter": "python",
   "pygments_lexer": "ipython3",
   "version": "3.6.9"
  }
 },
 "nbformat": 4,
 "nbformat_minor": 2
}
