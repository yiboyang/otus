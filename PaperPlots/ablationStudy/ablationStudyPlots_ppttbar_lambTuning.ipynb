{
 "cells": [
  {
   "cell_type": "markdown",
   "metadata": {},
   "source": [
    "# OTUS Ablation Study Paper Plots | $p p > t \\bar{t}$"
   ]
  },
  {
   "cell_type": "markdown",
   "metadata": {},
   "source": [
    "This notebook creates the plots which are found in the paper: https://arxiv.org/abs/2101.08944. "
   ]
  },
  {
   "cell_type": "markdown",
   "metadata": {},
   "source": [
    "# Load Required Libraries"
   ]
  },
  {
   "cell_type": "code",
   "execution_count": 1,
   "metadata": {},
   "outputs": [],
   "source": [
    "%matplotlib inline\n",
    "import matplotlib.pyplot as plt\n",
    "import seaborn as sns\n",
    "import numpy as np\n",
    "import matplotlib.cm as cm\n",
    "from scipy import stats\n",
    "\n",
    "# Add utilityFunctions/ to easily use utility .py files\n",
    "import sys\n",
    "sys.path.append(\"../../utilityFunctions\")"
   ]
  },
  {
   "cell_type": "markdown",
   "metadata": {},
   "source": [
    "# Meta Parameters"
   ]
  },
  {
   "cell_type": "code",
   "execution_count": 2,
   "metadata": {},
   "outputs": [
    {
     "name": "stdout",
     "output_type": "stream",
     "text": [
      "lamb =  0.001\n"
     ]
    }
   ],
   "source": [
    "#-- Set appropriate lambda value --#\n",
    "# allLambs    = [0.001, 0.01, 0.1, 1, 10, 100, 1000]\n",
    "selectLambs = [0.001, 10, 100]\n",
    "lamb = selectLambs[0]\n",
    "print('lamb = ', lamb)"
   ]
  },
  {
   "cell_type": "code",
   "execution_count": 3,
   "metadata": {},
   "outputs": [],
   "source": [
    "save_figs = True  # Global switch to turn on saving figures to files\n",
    "N_slices  = 1000  # Global number of slices to calculate SW distance with\n",
    "\n",
    "data_directory    = '../../data/'\n",
    "dataset_name      = 'ppttbar'\n",
    "results_dataPath  = '../../experiments/'+dataset_name+f'/ablationStudy/lambda_tuning/npzFiles/swae-lamb={lamb}.npz'\n",
    "img_dir           = dataset_name+'_lambTuningImages/'\n",
    "\n",
    "np.random.seed(4) # Set numpy random seed"
   ]
  },
  {
   "cell_type": "markdown",
   "metadata": {},
   "source": [
    "# Get Truth Datasets and Model Results"
   ]
  },
  {
   "cell_type": "markdown",
   "metadata": {},
   "source": [
    "The data was split into training, validation, and two testing sets. We load only the validation dataset here and split it in two. We also load in the model results calculated on one of the validation datasets.\n",
    "\n",
    "Note that we have two separate validation sets to ensure the independence of samples when performing statistical tests.\n",
    "\n",
    "Specifically, we have 4 initial datasets: x_val1, z_val1, x_val2, and z_val2.\n",
    "\n",
    "Validation set 1 has been used to obtain network results. These results will be compared to the independent validation set 2.\n",
    "\n",
    "For testing the encoder's performance we will use the following convention:\n",
    "- z_pred_val1 = E(x_val1, $\\epsilon$)\n",
    "\n",
    "In plots this will be denoted as $x \\rightarrow \\tilde{z}$.\n",
    "\n",
    "For testing the decoder's performance we will use the following convention:\n",
    "- x_pred_truth_val1 = D(z_val1, $\\epsilon$)\n",
    "\n",
    "In plots this will be denoted as $z \\rightarrow \\tilde{x}'$.\n",
    "\n",
    "For testing the overall performance of the full encoder-decoder chain we will use the following convention:\n",
    "- x_pred_val1 = D(E(x_val1, $\\epsilon$), $\\epsilon$)\n",
    "\n",
    "In plots this will be denoted as $x \\rightarrow \\tilde{z} \\rightarrow \\tilde{x}$.\n",
    "\n",
    "Note that $\\epsilon$ denotes the random noise input of the networks. Note that all $\\epsilon$ are different random samples. This happens internally and thus won't be shown in what follows."
   ]
  },
  {
   "cell_type": "markdown",
   "metadata": {},
   "source": [
    "## Load in Validation Data and Results"
   ]
  },
  {
   "cell_type": "code",
   "execution_count": 4,
   "metadata": {},
   "outputs": [
    {
     "name": "stdout",
     "output_type": "stream",
     "text": [
      "z_val1 Shape, x_val1 Shape:  (20000, 24) (20000, 24)\n",
      "z_val2 Shape, x_val2 Shape:  (20000, 24) (20000, 24)\n"
     ]
    }
   ],
   "source": [
    "valData = np.load(results_dataPath)\n",
    "\n",
    "#-- Load truth data --#\n",
    "zData = valData['z']\n",
    "xData = valData['x']\n",
    "\n",
    "#-- Split data into the two separate validation sets --#\n",
    "f = int(0.5*zData.shape[0])\n",
    "\n",
    "x_val1  = xData[0:f]\n",
    "z_val1  = zData[0:f]\n",
    "\n",
    "x_val2  = xData[f:]\n",
    "z_val2  = zData[f:]\n",
    "\n",
    "#-- Make sure validation sets have the same number of events --#\n",
    "assert(x_val1.shape[0] == x_val2.shape[0])\n",
    "assert(z_val1.shape[0] == z_val2.shape[0])\n",
    "print('z_val1 Shape, x_val1 Shape: ', z_val1.shape, x_val1.shape)\n",
    "print('z_val2 Shape, x_val2 Shape: ', z_val2.shape, x_val2.shape)"
   ]
  },
  {
   "cell_type": "code",
   "execution_count": 5,
   "metadata": {},
   "outputs": [],
   "source": [
    "#-- Load results data --#\n",
    "zPred_raw      = valData['x_encoded']        # E(x)\n",
    "xPred_raw      = valData['x_reconstructed']  # D(E(x))\n",
    "xPredTruth_raw = valData['z_decoded']        # D(z)\n",
    "\n",
    "#-- Get predicted z for x_val1, E(x_val1) --#\n",
    "z_pred_val1 = zPred_raw[0:f]\n",
    "\n",
    "#-- Get predicted x for full autoencoder chain, D(E(x_val1)) --#\n",
    "x_pred_val1 = xPred_raw[0:f]\n",
    "\n",
    "#-- Get predicted x for true z_val1, D(z_val1) --#\n",
    "x_pred_truth_val1 = xPredTruth_raw[0:f]  \n",
    "\n",
    "#-- Apply PT selection cuts --#\n",
    "# These cuts require PT < 20 GeV\n",
    "# These are similarly applied \"by hand\" in Delphes, so we do the same here. See the paper for further discussion.\n",
    "xPredMask       = valData['x_reconstructed_good_mask'] # Mask to select xPred passing selection cuts\n",
    "xPredTruthMask  = valData['z_decoded_good_mask']       # Mask to select xPredTruth passing selection cuts\n",
    "\n",
    "# Two masks for validation set 1 only\n",
    "xPred_val1_mask      = xPredMask[0:f]\n",
    "xPredTruth_val1_mask = xPredTruthMask[0:f]\n",
    "\n",
    "# Data for examining xPred results\n",
    "x_pred_val1          = x_pred_val1[xPred_val1_mask]\n",
    "z_pred_val1_mskxPred = z_pred_val1[xPred_val1_mask]\n",
    "\n",
    "# Data for examining xPredTruth results\n",
    "x_pred_truth_val1       = x_pred_truth_val1[xPredTruth_val1_mask]\n",
    "z_val1_mskxPredTruth    = z_val1[xPredTruth_val1_mask]\n",
    "x_val1_mskxPredTruth    = x_val1[xPredTruth_val1_mask]\n",
    "\n",
    "#-- Truncate data such that it is all the same size --#\n",
    "n = np.min([x_pred_val1.shape[0], x_pred_truth_val1.shape[0]])\n",
    "\n",
    "# Data for xPred results\n",
    "x_pred_val1_trunc          = x_pred_val1[0:n]\n",
    "z_pred_val1_mskxPred_trunc = z_pred_val1_mskxPred[0:n]\n",
    "\n",
    "# Data for xPredTruth results\n",
    "x_pred_truth_val1_trunc       = x_pred_truth_val1[0:n]\n",
    "z_val1_mskxPredTruth_trunc    = z_val1_mskxPredTruth[0:n]\n",
    "x_val1_mskxPredTruth_trunc    = x_val1_mskxPredTruth[0:n]\n",
    "\n",
    "# True data that will be used for comparison with xPred and xPredTruth\n",
    "x_val2_trunc = x_val2[0:n]"
   ]
  },
  {
   "cell_type": "code",
   "execution_count": 6,
   "metadata": {},
   "outputs": [],
   "source": [
    "#-- For Cleaner Notation Below, we form these into compact datasets --#\n",
    "\n",
    "# Data for making Encoder comparison plots (no cuts included)\n",
    "# z_val2 and z_pred_val1 -> z and \\tilde{z} in plots\n",
    "EPlotData = [z_val2, z_pred_val1]\n",
    "\n",
    "# Data for making Decoder comparison plots\n",
    "# x_val2_trunc and x_pred_val1_trunc and x_predTruth_val1_trunc -> x and \\tilde{x} and \\tilde{x}' in plots\n",
    "DPlotData = [x_val2_trunc, x_pred_val1_trunc, x_pred_truth_val1_trunc]\n",
    "\n",
    "# Data for making Transport plots (pairs are important here)\n",
    "# z_pred_val1_mskxPred_trunc and x_pred_val1_trunc           -> \\tilde{z} \\rightarrow \\tilde{x}\n",
    "# z_val1_mskxPredTruth_trunc and x_val1_mskxPredTruth_trunc  -> z \\rightarrow x\n",
    "# z_val1_mskxPredTruth_trunc and x_pred_truth_val1_trunc     -> z \\rightarrow \\tilde{x}\n",
    "TransportPlotData = [[z_pred_val1_mskxPred_trunc, x_pred_val1_trunc], \n",
    "                     [z_val1_mskxPredTruth_trunc, x_val1_mskxPredTruth_trunc], \n",
    "                     [z_val1_mskxPredTruth_trunc, x_pred_truth_val1_trunc]]"
   ]
  },
  {
   "cell_type": "code",
   "execution_count": 7,
   "metadata": {},
   "outputs": [
    {
     "name": "stdout",
     "output_type": "stream",
     "text": [
      "$z$ and $\\tilde{z}$:                         (20000, 24) (20000, 24)\n",
      "$x$ and $\\tilde{x}$ and $\\tilde{x}^\\prime$:  (13562, 24) (13562, 24) (13562, 24)\n",
      "\n",
      "$\\tilde{z}$ -> $\\tilde{x}$:                  (13562, 24) (13562, 24)\n",
      "$z$ -> $x$:                                  (13562, 24) (13562, 24)\n",
      "$z$ -> $\\tilde{x}$:                          (13562, 24) (13562, 24)\n"
     ]
    }
   ],
   "source": [
    "print(r\"$z$ and $\\tilde{z}$:                        \", EPlotData[0].shape, EPlotData[1].shape)\n",
    "print(r\"$x$ and $\\tilde{x}$ and $\\tilde{x}^\\prime$: \", DPlotData[0].shape, DPlotData[1].shape, DPlotData[2].shape)\n",
    "print(\"\")\n",
    "print(r\"$\\tilde{z}$ -> $\\tilde{x}$:                 \", TransportPlotData[0][0].shape, TransportPlotData[0][1].shape)\n",
    "print(r\"$z$ -> $x$:                                 \", TransportPlotData[1][0].shape, TransportPlotData[1][1].shape)\n",
    "print(r\"$z$ -> $\\tilde{x}$:                         \", TransportPlotData[2][0].shape, TransportPlotData[2][1].shape)"
   ]
  },
  {
   "cell_type": "markdown",
   "metadata": {},
   "source": [
    "# Define Statistical Tests That We Will Use"
   ]
  },
  {
   "cell_type": "markdown",
   "metadata": {},
   "source": [
    "For each one-dimensional distribution we will perform the following statistical tests:\n",
    "\n",
    "- $\\chi^2$\n",
    "- 2-sample, 2-sided Kolmogorov-Smirov test\n",
    "\n",
    "We will also report the 1D Wasserstein distance.\n",
    "\n",
    "z-space plots will compare\n",
    "- z_test2 with z_pred_te1 \n",
    "\n",
    "In plots this will be denoted as $z$ vs $\\tilde{z}$. \n",
    "\n",
    "x-space plots will compare\n",
    "- x_test2 with x_pred_te1 \n",
    "\n",
    "In plots this will be denoted as $x$ vs $\\tilde{x}$. \n",
    "- x_test2 with x_pred_truth_te1 \n",
    "\n",
    "In plots this will be denoted as $x$ vs $\\tilde{x}'$.\n"
   ]
  },
  {
   "cell_type": "markdown",
   "metadata": {},
   "source": [
    "## Import statistical test functions"
   ]
  },
  {
   "cell_type": "code",
   "execution_count": 8,
   "metadata": {},
   "outputs": [],
   "source": [
    "from func_utils import runStatAnalysis \n",
    "from func_utils import sliced_wd_numpy as avSWDistance"
   ]
  },
  {
   "cell_type": "markdown",
   "metadata": {},
   "source": [
    "## Calculate SW Distance results (global metric) over N_Slices"
   ]
  },
  {
   "cell_type": "markdown",
   "metadata": {},
   "source": [
    "### z-space results"
   ]
  },
  {
   "cell_type": "code",
   "execution_count": 9,
   "metadata": {},
   "outputs": [
    {
     "name": "stdout",
     "output_type": "stream",
     "text": [
      "SW distance $z$ vs $\\tilde{z}$:  576.0113454457904\n"
     ]
    }
   ],
   "source": [
    "print(r\"SW distance $z$ vs $\\tilde{z}$: \", avSWDistance(EPlotData[0], EPlotData[1], N_slices))"
   ]
  },
  {
   "cell_type": "markdown",
   "metadata": {},
   "source": [
    "### x-space results"
   ]
  },
  {
   "cell_type": "code",
   "execution_count": 10,
   "metadata": {},
   "outputs": [
    {
     "name": "stdout",
     "output_type": "stream",
     "text": [
      "SW distance $x$ vs $\\tilde{x}$:  4853.260134001407\n",
      "SW distance $x$ vs $\\tilde{x}^\\prime$:  267.2069527627518\n"
     ]
    }
   ],
   "source": [
    "print(r\"SW distance $x$ vs $\\tilde{x}$: \", avSWDistance(DPlotData[0], DPlotData[1], N_slices))\n",
    "print(r\"SW distance $x$ vs $\\tilde{x}^\\prime$: \", avSWDistance(DPlotData[0], DPlotData[2], N_slices))"
   ]
  },
  {
   "cell_type": "markdown",
   "metadata": {},
   "source": [
    "## Run statistical analysis for Principal Axis data"
   ]
  },
  {
   "cell_type": "markdown",
   "metadata": {},
   "source": [
    "We run the statistical analysis on the principal axis plots that are shown in the paper. These plots are for the b quark's $p_Y$, $p_Z$, and $E$ in z-space and the leading jet's $p_Y$, $p_Z$, and $E$ in x-space.  \n",
    "\n",
    "We first find the correct binning such that no bin has less than 5 entries (necessary for $\\chi^2$ test). We store this binning in a list to use in later plotting."
   ]
  },
  {
   "cell_type": "markdown",
   "metadata": {},
   "source": [
    "### z-space Find Correct Binning"
   ]
  },
  {
   "cell_type": "code",
   "execution_count": 11,
   "metadata": {},
   "outputs": [
    {
     "name": "stdout",
     "output_type": "stream",
     "text": [
      "Number of entries in each bin:  [  42.   75.   45.   49.   71.   92.  129.  178.  210.  267.  382.  466.\n",
      "  596.  723.  838.  940.  976.  860.  827.  751.  680.  685.  679.  681.\n",
      "  725.  807.  876. 1001.  943.  912.  722.  568.  483.  378.  266.  216.\n",
      "  154.  115.  108.   73.   67.   35.   86.   35.]\n",
      "Do any bins have less than 5 entries?  False\n"
     ]
    }
   ],
   "source": [
    "# Want to find binsY such that n has no bins with <5 entries\n",
    "zbinsY = [-250, -225] + [-200+10*i for i in range(40+1)] + [225, 250]#[-250+10*i for i in range(50+1)]\n",
    "n, _, _ = plt.hist(EPlotData[1][:,9], bins=zbinsY, histtype='step', density=False)\n",
    "print(\"Number of entries in each bin: \",n)\n",
    "print(\"Do any bins have less than 5 entries? \",np.any(n < 5))\n",
    "\n",
    "plt.close() # Don't show plot"
   ]
  },
  {
   "cell_type": "markdown",
   "metadata": {},
   "source": [
    "### x-space Find Correct Binning"
   ]
  },
  {
   "cell_type": "code",
   "execution_count": 12,
   "metadata": {},
   "outputs": [
    {
     "name": "stdout",
     "output_type": "stream",
     "text": [
      "Number of entries in each bin:  [ 53. 101.  57.  76. 104. 127. 120. 180. 221. 247. 307. 388. 428. 478.\n",
      " 581. 546. 529. 463. 449. 399. 417. 380. 396. 402. 424. 444. 465. 484.\n",
      " 564. 546. 498. 442. 393. 348. 257. 219. 156. 134. 115. 101.  68.  63.\n",
      "  96.  58.]\n",
      "Do any bins have less than 5 entries?  False\n"
     ]
    }
   ],
   "source": [
    "xbinsY = zbinsY\n",
    "n, _, _ = plt.hist(DPlotData[1][:,9], bins=xbinsY, histtype='step', density=False)\n",
    "print(\"Number of entries in each bin: \",n)\n",
    "print(\"Do any bins have less than 5 entries? \",np.any(n < 5))\n",
    "\n",
    "plt.close() # Don't show plot"
   ]
  },
  {
   "cell_type": "markdown",
   "metadata": {},
   "source": [
    "### Run statistical analysis for z-space principal axis data"
   ]
  },
  {
   "cell_type": "code",
   "execution_count": 13,
   "metadata": {},
   "outputs": [],
   "source": [
    "#-- Define suitable binning for PA data (obtained from above) --#\n",
    "bins_py = zbinsY       \n",
    "\n",
    "zbinsList = [bins_py]"
   ]
  },
  {
   "cell_type": "code",
   "execution_count": 14,
   "metadata": {},
   "outputs": [],
   "source": [
    "#-- z-space PA data --#\n",
    "zStatsList = []\n",
    "\n",
    "for j in range(len(zbinsList)):\n",
    "    \n",
    "    k = (j+1) + 4*2\n",
    "              \n",
    "    zStatsList.append(runStatAnalysis(EPlotData[1][:,k], EPlotData[0][:,k], zbinsList[j]))\n"
   ]
  },
  {
   "cell_type": "code",
   "execution_count": 15,
   "metadata": {},
   "outputs": [
    {
     "name": "stdout",
     "output_type": "stream",
     "text": [
      "1\n",
      "W1D, KSstat, KSpval, RC2, dof, chi2pval\n",
      "(722.59796, 0.12519999999999998, 1.4104655507782033e-136, 64.39451116219787, 43, 0.0)\n",
      "\n",
      "W1D: 7.23E+02\n",
      "(KSstat, pval): (1.25E-01, 0.000)\n",
      "(RC2, dof, pval): (64.395, 43, 0.000)\n"
     ]
    }
   ],
   "source": [
    "#-- Demonstration of how to access statistical test information --#\n",
    "print(len(zStatsList))\n",
    "print('W1D, KSstat, KSpval, RC2, dof, chi2pval')\n",
    "print(zStatsList[0])\n",
    "print(\"\")\n",
    "print('W1D: %.2E'% zStatsList[0][0])\n",
    "print('(KSstat, pval): (%.2E, %.3f)' % (zStatsList[0][1], zStatsList[0][2]))\n",
    "print('(RC2, dof, pval): (%.3f, %d, %.3f)' % (zStatsList[0][3], zStatsList[0][4], zStatsList[0][5]))"
   ]
  },
  {
   "cell_type": "markdown",
   "metadata": {},
   "source": [
    "### Run statistical analysis for x-space principal axis data"
   ]
  },
  {
   "cell_type": "code",
   "execution_count": 16,
   "metadata": {},
   "outputs": [],
   "source": [
    "bins_py = xbinsY\n",
    "\n",
    "xbinsList = [bins_py]"
   ]
  },
  {
   "cell_type": "code",
   "execution_count": 17,
   "metadata": {},
   "outputs": [],
   "source": [
    "#-- x-space PA data --#\n",
    "xStatsList = []\n",
    "xStatsListTruth = []\n",
    "\n",
    "for j in range(len(xbinsList)):\n",
    "    \n",
    "    k = (j+1) + 4*2\n",
    "              \n",
    "    xStatsList.append(runStatAnalysis(DPlotData[1][:,k], DPlotData[0][:,k], xbinsList[j]))\n",
    "        \n",
    "    xStatsListTruth.append(runStatAnalysis(DPlotData[2][:,k], DPlotData[0][:,k], xbinsList[j]))\n"
   ]
  },
  {
   "cell_type": "code",
   "execution_count": 18,
   "metadata": {},
   "outputs": [
    {
     "name": "stdout",
     "output_type": "stream",
     "text": [
      "1\n",
      "W1D, KSstat, KSpval, RC2, dof, chi2pval\n",
      "(225.66847, 0.04962394927001923, 6.2651699617290025e-15, 8.095038223070183, 43, 0.0)\n",
      "\n",
      "W1D: 2.26E+02\n",
      "(KSstat, pval): (4.96E-02, 0.000)\n",
      "(RC2, dof, pval): (8.095, 43, 0.000)\n"
     ]
    }
   ],
   "source": [
    "#-- Demonstration of how to access statistical test information --#\n",
    "print(len(xStatsList))\n",
    "print('W1D, KSstat, KSpval, RC2, dof, chi2pval')\n",
    "print(xStatsList[0])\n",
    "print(\"\")\n",
    "print('W1D: %.2E'% xStatsList[0][0])\n",
    "print('(KSstat, pval): (%.2E, %.3f)' % (xStatsList[0][1], xStatsList[0][2]))\n",
    "print('(RC2, dof, pval): (%.3f, %d, %.3f)' % (xStatsList[0][3], xStatsList[0][4], xStatsList[0][5]))"
   ]
  },
  {
   "cell_type": "markdown",
   "metadata": {},
   "source": [
    "# Make Principal Axes Plots"
   ]
  },
  {
   "cell_type": "markdown",
   "metadata": {},
   "source": [
    "## Load Plotting Function"
   ]
  },
  {
   "cell_type": "code",
   "execution_count": 19,
   "metadata": {},
   "outputs": [],
   "source": [
    "from plot_utils import ratioPlotSingle, ratioPlotDouble, transportPlot"
   ]
  },
  {
   "cell_type": "markdown",
   "metadata": {},
   "source": [
    "## Create Principal Axes Plots z-space"
   ]
  },
  {
   "cell_type": "code",
   "execution_count": 20,
   "metadata": {},
   "outputs": [
    {
     "data": {
      "image/png": "[encoded data removed]",
      "text/plain": [
       "<Figure size 432x576 with 2 Axes>"
      ]
     },
     "metadata": {
      "needs_background": "light"
     },
     "output_type": "display_data"
    }
   ],
   "source": [
    "#-- Plot this for the b Quark's py --#\n",
    "ratioPlotSingle(EPlotData[0][:,9], EPlotData[1][:,9], zbinsList[0], (-250,250), (0,7000), (0.25, 1.95), \n",
    "                   r'b quark $p_y$ [GeV/c]', legend=True, save_figs=save_figs, img_dir=img_dir, ablLambda=f'lamb={lamb}') # zStatsList[0],"
   ]
  },
  {
   "cell_type": "markdown",
   "metadata": {},
   "source": [
    "## Principal Axes Plots x space"
   ]
  },
  {
   "cell_type": "code",
   "execution_count": 21,
   "metadata": {},
   "outputs": [
    {
     "data": {
      "image/png": "[encoded data removed]",
      "text/plain": [
       "<Figure size 432x576 with 2 Axes>"
      ]
     },
     "metadata": {
      "needs_background": "light"
     },
     "output_type": "display_data"
    }
   ],
   "source": [
    "#-- Plot this for the positron's py --#\n",
    "ratioPlotDouble(DPlotData[0][:,9], DPlotData[1][:,9], DPlotData[2][:,9], xbinsList[0], \n",
    "                   (-250,250), (0,7000), (0.25,2.85), \n",
    "                   r'Leading jet $p_y$ [GeV/c]', legend=True, save_figs=save_figs, img_dir=img_dir, ablLambda=f'lamb={lamb}') #xStatsList[0], xStatsListTruth[0], "
   ]
  },
  {
   "cell_type": "markdown",
   "metadata": {},
   "source": [
    "# Calculate Derived Quantities"
   ]
  },
  {
   "cell_type": "markdown",
   "metadata": {},
   "source": [
    "## Calculate Invariant Mass Derived Quantities"
   ]
  },
  {
   "cell_type": "markdown",
   "metadata": {},
   "source": [
    "In x-space, invariant mass checks are somewhat complicated as we don't know which jets correspond to which quarks. There are 5 in total.\n",
    "\n",
    "1) t tbar pair mass\n",
    "\n",
    "2) Leptonic W mass\n",
    "\n",
    "3) Hadronic W mass\n",
    "\n",
    "4) Leptonic t mass\n",
    "\n",
    "5) Hadronic t mass"
   ]
  },
  {
   "cell_type": "markdown",
   "metadata": {},
   "source": [
    "### Import code to calculate these quantities"
   ]
  },
  {
   "cell_type": "code",
   "execution_count": 22,
   "metadata": {},
   "outputs": [],
   "source": [
    "from top_masses import ttbar_masses\n",
    "\n",
    "# Note that ttbar_masses(x) where x is a 24-length vector (i.e. one sample from x-space)"
   ]
  },
  {
   "cell_type": "markdown",
   "metadata": {},
   "source": [
    "### Calculate for x in DPlotData[0] data"
   ]
  },
  {
   "cell_type": "code",
   "execution_count": 23,
   "metadata": {},
   "outputs": [],
   "source": [
    "# Loop over all events and calculate the masses in each case\n",
    "xval_massesArr = np.array([ttbar_masses(DPlotData[0][i,:]) for i in range(DPlotData[0].shape[0])])\n",
    "\n",
    "xval_IM_ttbar, xval_IM_Wlep, xval_IM_Whad, xval_IM_tlep, xval_IM_thad = xval_massesArr[:,0], xval_massesArr[:,1], xval_massesArr[:,2], xval_massesArr[:,3], xval_massesArr[:,4]"
   ]
  },
  {
   "cell_type": "markdown",
   "metadata": {},
   "source": [
    "### Calculate for $\\tilde{x}$ in DPlotData[1] data"
   ]
  },
  {
   "cell_type": "code",
   "execution_count": 24,
   "metadata": {},
   "outputs": [],
   "source": [
    "# Loop over all events and calculate the masses in each case\n",
    "xpred_massesArr = np.array([ttbar_masses(DPlotData[1][i,:]) for i in range(DPlotData[1].shape[0])])\n",
    "\n",
    "xpred_IM_ttbar, xpred_IM_Wlep, xpred_IM_Whad, xpred_IM_tlep, xpred_IM_thad = xpred_massesArr[:,0], xpred_massesArr[:,1], xpred_massesArr[:,2], xpred_massesArr[:,3], xpred_massesArr[:,4]"
   ]
  },
  {
   "cell_type": "markdown",
   "metadata": {},
   "source": [
    "### Calculate for $\\tilde{x}^\\prime$ in DPlotData[2] data"
   ]
  },
  {
   "cell_type": "code",
   "execution_count": 25,
   "metadata": {},
   "outputs": [],
   "source": [
    "# Loop over all events and calculate the masses in each case\n",
    "xpredtruth_massesArr = np.array([ttbar_masses(DPlotData[2][i,:]) for i in range(DPlotData[2].shape[0])])\n",
    "\n",
    "xpredtruth_IM_ttbar, xpredtruth_IM_Wlep, xpredtruth_IM_Whad, xpredtruth_IM_tlep, xpredtruth_IM_thad = xpredtruth_massesArr[:,0], xpredtruth_massesArr[:,1], xpredtruth_massesArr[:,2], xpredtruth_massesArr[:,3], xpredtruth_massesArr[:,4]"
   ]
  },
  {
   "cell_type": "markdown",
   "metadata": {},
   "source": [
    "### Form into lists for compact notation"
   ]
  },
  {
   "cell_type": "code",
   "execution_count": 26,
   "metadata": {},
   "outputs": [],
   "source": [
    "ttbarPlotData = [xval_IM_ttbar, xpred_IM_ttbar, xpredtruth_IM_ttbar]\n",
    "WlepPlotData  = [xval_IM_Wlep,  xpred_IM_Wlep,  xpredtruth_IM_Wlep]\n",
    "WhadPlotData  = [xval_IM_Whad,  xpred_IM_Whad,  xpredtruth_IM_Whad]\n",
    "tlepPlotData  = [xval_IM_tlep,  xpred_IM_tlep,  xpredtruth_IM_tlep]\n",
    "thadPlotData  = [xval_IM_thad,  xpred_IM_thad,  xpredtruth_IM_thad]"
   ]
  },
  {
   "cell_type": "markdown",
   "metadata": {},
   "source": [
    "# Find correct binning for Derived Quantities"
   ]
  },
  {
   "cell_type": "markdown",
   "metadata": {},
   "source": [
    "## Find correct binning for invariant mass derived quantities"
   ]
  },
  {
   "cell_type": "code",
   "execution_count": 27,
   "metadata": {},
   "outputs": [
    {
     "name": "stdout",
     "output_type": "stream",
     "text": [
      "Number of entries in each bin:  [  88.  291.  733. 1866. 2784. 1956. 1103.  756.  613.  461.  365.  303.\n",
      "  235.  239.  197.  153.  171.  140.  105.  116.   86.   64.   65.   75.\n",
      "   43.   55.   38.   41.   32.   36.   33.   23.   17.   18.   20.   24.\n",
      "   15.   15.   16.   24.]\n",
      "Do any bins have less than 5 entries?  False\n"
     ]
    }
   ],
   "source": [
    "# Want to find bins such that n has no bins with <5 entries\n",
    "bins_thad = [60] + [100 + 20*i for i in range(38+1)] + [900] #[60 + 20*i for i in range(42+1)]\n",
    "n, _, _ = plt.hist(thadPlotData[1], bins=bins_thad, histtype='step', density=False)\n",
    "n, _, _ = plt.hist(thadPlotData[0], bins=bins_thad, histtype='step', density=False)\n",
    "print(\"Number of entries in each bin: \",n)\n",
    "print(\"Do any bins have less than 5 entries? \",np.any(n < 5))\n",
    "\n",
    "plt.close() # Don't show plot"
   ]
  },
  {
   "cell_type": "markdown",
   "metadata": {},
   "source": [
    "# Run Statistical Analysis for Derived Quantities"
   ]
  },
  {
   "cell_type": "markdown",
   "metadata": {},
   "source": [
    "## Run Statistical Analysis for Invariant Mass Derived Quantities"
   ]
  },
  {
   "cell_type": "code",
   "execution_count": 28,
   "metadata": {},
   "outputs": [],
   "source": [
    "xIMstatsList = []\n",
    "xIMstatsListTruth = []\n",
    "\n",
    "# thad\n",
    "xIMstatsList.append(runStatAnalysis(thadPlotData[1], thadPlotData[0], bins_thad))\n",
    "xIMstatsListTruth.append(runStatAnalysis(thadPlotData[2], thadPlotData[0], bins_thad))\n",
    "   "
   ]
  },
  {
   "cell_type": "markdown",
   "metadata": {},
   "source": [
    "# Make Plots for Derived Quantities"
   ]
  },
  {
   "cell_type": "markdown",
   "metadata": {},
   "source": [
    "## Make Plots for Invariant Mass Derived Quantities"
   ]
  },
  {
   "cell_type": "code",
   "execution_count": 29,
   "metadata": {},
   "outputs": [
    {
     "data": {
      "image/png": "[encoded data removed]",
      "text/plain": [
       "<Figure size 432x576 with 2 Axes>"
      ]
     },
     "metadata": {
      "needs_background": "light"
     },
     "output_type": "display_data"
    }
   ],
   "source": [
    "ratioPlotDouble(thadPlotData[0], thadPlotData[1], thadPlotData[2], bins_thad, \n",
    "                   (60,900), (0,10000), (0.25,4.05),  \n",
    "                   r'Hadronic $M_{t}$ [GeV/$c^2$]', legend=True, save_figs=save_figs, img_dir=img_dir, ablLambda=f'lamb={lamb}') #xIMstatsList[4],  xIMstatsListTruth[4], "
   ]
  },
  {
   "cell_type": "markdown",
   "metadata": {},
   "source": [
    "# Transport plots"
   ]
  },
  {
   "cell_type": "markdown",
   "metadata": {},
   "source": [
    "Brief Reminder of Notation:\n",
    "\n",
    "- TransportPlotData[0] -> [$\\tilde{z}$, $\\tilde{x}$]\n",
    "- TransportPlotData[1] -> [$z$, $x$]\n",
    "- TransportPlotData[2] -> [$z$, $\\tilde{x}'$]\n",
    "\n",
    "Ex.\n",
    "- $\\tilde{z}$ = TransportPlotData[0][0]\n",
    "- $\\tilde{z}$, b quark energy = TransportPlotData[0][0][:,11]\n",
    "- $\\tilde{x}$ = TransportPlotData[0][0]\n",
    "- $\\tilde{x}$, leading jet energy = TransportPlotData[0][1][:,11]"
   ]
  },
  {
   "cell_type": "markdown",
   "metadata": {},
   "source": [
    "## Decoder $\\tilde{z} \\rightarrow \\tilde{x}$"
   ]
  },
  {
   "cell_type": "code",
   "execution_count": 30,
   "metadata": {},
   "outputs": [
    {
     "data": {
      "image/png": "[encoded data removed]",
      "text/plain": [
       "<Figure size 576x576 with 3 Axes>"
      ]
     },
     "metadata": {},
     "output_type": "display_data"
    }
   ],
   "source": [
    "#-- Make decoder transport plot from learned latent space--#\n",
    "\n",
    "# Leading jet energy\n",
    "Z = TransportPlotData[0][0][:,11].reshape(-1,1) \n",
    "X = TransportPlotData[0][1][:,11].reshape(-1,1) \n",
    "\n",
    "n = Z.shape[1]\n",
    "ZX = [np.concatenate((Z[:,i].reshape(-1,1), X[:,i].reshape(-1,1)), axis=1) for i in range(n)]\n",
    "\n",
    "transportPlot(ZX[0], zlim=(0, 800), xlim=(0,800), nz=20, nx=20, name=f'decTransport_zpred_xpred_val_lamb={lamb}.png', dec=True, title=r'$\\hspace{4}$ OTUS encoder-decoder: $\\tilde{z} \\rightarrow \\tilde{x}$', save_figs=save_figs, img_dir=img_dir)"
   ]
  },
  {
   "cell_type": "code",
   "execution_count": null,
   "metadata": {},
   "outputs": [],
   "source": []
  }
 ],
 "metadata": {
  "kernelspec": {
   "display_name": "Python 3",
   "language": "python",
   "name": "python3"
  },
  "language_info": {
   "codemirror_mode": {
    "name": "ipython",
    "version": 3
   },
   "file_extension": ".py",
   "mimetype": "text/x-python",
   "name": "python",
   "nbconvert_exporter": "python",
   "pygments_lexer": "ipython3",
   "version": "3.6.9"
  }
 },
 "nbformat": 4,
 "nbformat_minor": 2
}
