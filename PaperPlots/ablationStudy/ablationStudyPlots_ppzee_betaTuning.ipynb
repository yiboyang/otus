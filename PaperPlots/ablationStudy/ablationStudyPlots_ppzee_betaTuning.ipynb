{
 "cells": [
  {
   "cell_type": "markdown",
   "metadata": {},
   "source": [
    "# OTUS Ablation Study Paper Plots | $p p > Z > e^+ e^-$"
   ]
  },
  {
   "cell_type": "markdown",
   "metadata": {},
   "source": [
    "This notebook creates the plots which are found in the paper: https://arxiv.org/abs/2101.08944. "
   ]
  },
  {
   "cell_type": "markdown",
   "metadata": {},
   "source": [
    "# Load Required Libraries"
   ]
  },
  {
   "cell_type": "code",
   "execution_count": 1,
   "metadata": {},
   "outputs": [],
   "source": [
    "%matplotlib inline\n",
    "import matplotlib.pyplot as plt\n",
    "import seaborn as sns\n",
    "import numpy as np\n",
    "import matplotlib.cm as cm\n",
    "from scipy import stats\n",
    "\n",
    "# Add utilityFunctions/ to easily use utility .py files\n",
    "import sys\n",
    "sys.path.append(\"../../utilityFunctions\")"
   ]
  },
  {
   "cell_type": "markdown",
   "metadata": {},
   "source": [
    "# Meta Parameters"
   ]
  },
  {
   "cell_type": "code",
   "execution_count": 2,
   "metadata": {},
   "outputs": [
    {
     "name": "stdout",
     "output_type": "stream",
     "text": [
      "beta =  0\n"
     ]
    }
   ],
   "source": [
    "#-- Set appropriate beta value --#\n",
    "# allBetas    = [0, 10, 20, 50, 100, 200]\n",
    "selectBetas = [0, 50, 100]\n",
    "beta = selectBetas[0]\n",
    "print('beta = ', beta)"
   ]
  },
  {
   "cell_type": "code",
   "execution_count": 3,
   "metadata": {},
   "outputs": [],
   "source": [
    "save_figs = True  # Global switch to turn on saving figures to files\n",
    "N_slices  = 1000  # Global number of slices to calculate SW distance with\n",
    "\n",
    "data_directory    = '../../data/'\n",
    "dataset_name      = 'ppzee'\n",
    "results_dataPath  = '../../experiments/'+dataset_name+f'/ablationStudy/anchor_tuning/npzFiles/swae-beta={beta}.npz'\n",
    "img_dir           = dataset_name+'_anchorTuningImages/'\n",
    "\n",
    "np.random.seed(4) # Set numpy random seed"
   ]
  },
  {
   "cell_type": "markdown",
   "metadata": {},
   "source": [
    "# Get Truth Datasets and Model Results"
   ]
  },
  {
   "cell_type": "markdown",
   "metadata": {},
   "source": [
    "The data was split into training, validation, and two testing sets. We load only the validation datasets here and split them in two. We also load in the model results calculated on one of the testing datasets.  \n",
    "\n",
    "Note that we have two separate validation sets to ensure the independence of samples when performing statistical tests.\n",
    "\n",
    "Specifically, we have 4 initial datasets: x_val1, z_val1, x_val2, and z_val2.\n",
    "\n",
    "Validation set 1 has been used to obtain network results. These results will be compared to the independent validation set 2.\n",
    "\n",
    "For testing the encoder's performance we will use the following convention:\n",
    "- z_pred_val1 = E(x_val1, $\\epsilon$)\n",
    "\n",
    "In plots this will be denoted as $x \\rightarrow \\tilde{z}$.\n",
    "\n",
    "For testing the decoder's performance we will use the following convention:\n",
    "- x_pred_truth_val1 = D(z_val1, $\\epsilon$)\n",
    "\n",
    "In plots this will be denoted as $z \\rightarrow \\tilde{x}'$.\n",
    "\n",
    "For testing the overall performance of the full encoder-decoder chain we will use the following convention:\n",
    "- x_pred_val1 = D(E(x_val1, $\\epsilon$), $\\epsilon$)\n",
    "\n",
    "In plots this will be denoted as $x \\rightarrow \\tilde{z} \\rightarrow \\tilde{x}$.\n",
    "\n",
    "Note that $\\epsilon$ denotes the random noise input of the networks. Note that all $\\epsilon$ are different random samples. This happens internally and thus won't be shown in what follows."
   ]
  },
  {
   "cell_type": "markdown",
   "metadata": {},
   "source": [
    "## Load in Validation Data and Results"
   ]
  },
  {
   "cell_type": "code",
   "execution_count": 4,
   "metadata": {},
   "outputs": [
    {
     "name": "stdout",
     "output_type": "stream",
     "text": [
      "z_val1 Shape, x_val1 Shape:  (20000, 8) (20000, 8)\n",
      "z_val2 Shape, x_val2 Shape:  (20000, 8) (20000, 8)\n"
     ]
    }
   ],
   "source": [
    "valData = np.load(results_dataPath)\n",
    "\n",
    "#-- Load truth data --#\n",
    "zData = valData['z']\n",
    "xData = valData['x']\n",
    "\n",
    "#-- Load results data --#\n",
    "zPred      = valData['x_encoded']        # E(x)\n",
    "xPred      = valData['x_reconstructed']  # D(E(x))\n",
    "xPredTruth = valData['z_decoded']        # D(z)\n",
    "\n",
    "#-- Split data into the two separate validation sets --#\n",
    "f = int(0.5*zData.shape[0])\n",
    "\n",
    "x_val1  = xData[0:f]\n",
    "z_val1  = zData[0:f]\n",
    "\n",
    "x_val2  = xData[f:]\n",
    "z_val2  = zData[f:]\n",
    "\n",
    "#-- Make sure validation sets have the same number of events --#\n",
    "assert(x_val1.shape[0] == x_val2.shape[0])\n",
    "assert(z_val1.shape[0] == z_val2.shape[0])\n",
    "print('z_val1 Shape, x_val1 Shape: ', z_val1.shape, x_val1.shape)\n",
    "print('z_val2 Shape, x_val2 Shape: ', z_val2.shape, x_val2.shape)\n",
    "\n",
    "#-- Get predicted z for x_val1, E(x_val1) --#\n",
    "z_pred_val1 = zPred[0:f]\n",
    "\n",
    "#-- Get predicted x for full autoencoder chain, D(E(x_val1)) --#\n",
    "x_pred_val1 = xPred[0:f]\n",
    "\n",
    "#-- Get predicted x for true z_val1, D(z_val1) --#\n",
    "x_pred_truth_val1 = xPredTruth[0:f]   "
   ]
  },
  {
   "cell_type": "markdown",
   "metadata": {},
   "source": [
    "# Define Statistical Tests That We Will Use"
   ]
  },
  {
   "cell_type": "markdown",
   "metadata": {},
   "source": [
    "For each one-dimensional distribution we will perform the following statistical tests:\n",
    "\n",
    "- $\\chi^2$\n",
    "- 2-sample, 2-sided Kolmogorov-Smirov test\n",
    "\n",
    "We will also report the 1D Wasserstein distance.\n",
    "\n",
    "z-space plots will compare\n",
    "- z_val2 with z_pred_val1 \n",
    "\n",
    "In plots this will be denoted as $z$ vs $\\tilde{z}$. \n",
    "\n",
    "x-space plots will compare\n",
    "- x_val2 with x_pred_val1 \n",
    "\n",
    "In plots this will be denoted as $x$ vs $\\tilde{x}$. \n",
    "- x_val2 with x_pred_truth_val1 \n",
    "\n",
    "In plots this will be denoted as $x$ vs $\\tilde{x}'$.\n"
   ]
  },
  {
   "cell_type": "markdown",
   "metadata": {},
   "source": [
    "## Import statistical test functions"
   ]
  },
  {
   "cell_type": "code",
   "execution_count": 5,
   "metadata": {},
   "outputs": [],
   "source": [
    "from func_utils import runStatAnalysis\n",
    "from func_utils import sliced_wd_numpy as avSWDistance\n",
    "# ReducedChiSq(), W1Dist() #?, KSTest(), runStatAnalysis(), generateTheta() #?, avSWDistance() #?"
   ]
  },
  {
   "cell_type": "markdown",
   "metadata": {},
   "source": [
    "## Calculate SW Distance Results (Global Metric) Over N_Slices"
   ]
  },
  {
   "cell_type": "markdown",
   "metadata": {},
   "source": [
    "### z-space results"
   ]
  },
  {
   "cell_type": "code",
   "execution_count": 6,
   "metadata": {},
   "outputs": [
    {
     "name": "stdout",
     "output_type": "stream",
     "text": [
      "SW distance $z$ vs $\\tilde{z}$:  1.6031508775188317\n"
     ]
    }
   ],
   "source": [
    "print(r\"SW distance $z$ vs $\\tilde{z}$: \", avSWDistance(z_val2, z_pred_val1, N_slices))"
   ]
  },
  {
   "cell_type": "markdown",
   "metadata": {},
   "source": [
    "### x-space results"
   ]
  },
  {
   "cell_type": "code",
   "execution_count": 7,
   "metadata": {},
   "outputs": [
    {
     "name": "stdout",
     "output_type": "stream",
     "text": [
      "SW distance $x$ vs $\\tilde{x}$:  1.4075965761365168\n",
      "SW distance $x$ vs $\\tilde{x}^\\prime$:  2.30405231784531\n"
     ]
    }
   ],
   "source": [
    "print(r\"SW distance $x$ vs $\\tilde{x}$: \", avSWDistance(x_val2, x_pred_val1, N_slices))\n",
    "print(r\"SW distance $x$ vs $\\tilde{x}^\\prime$: \", avSWDistance(x_val2, x_pred_truth_val1, N_slices))"
   ]
  },
  {
   "cell_type": "markdown",
   "metadata": {},
   "source": [
    "# Create Transport Plots"
   ]
  },
  {
   "cell_type": "code",
   "execution_count": 8,
   "metadata": {},
   "outputs": [],
   "source": [
    "from plot_utils import transportPlot"
   ]
  },
  {
   "cell_type": "markdown",
   "metadata": {},
   "source": [
    "## Decoder $\\tilde{z} \\rightarrow \\tilde{x}$"
   ]
  },
  {
   "cell_type": "markdown",
   "metadata": {},
   "source": [
    "### Positron $p_x$"
   ]
  },
  {
   "cell_type": "code",
   "execution_count": 9,
   "metadata": {},
   "outputs": [
    {
     "data": {
      "image/png": "[encoded data removed]",
      "text/plain": [
       "<Figure size 576x576 with 3 Axes>"
      ]
     },
     "metadata": {},
     "output_type": "display_data"
    }
   ],
   "source": [
    "#-- Make decoder transport plot from learned latent space--#\n",
    "\n",
    "# Positron px\n",
    "Z = z_pred_val1[:,4].reshape(-1,1)\n",
    "X = x_pred_val1[:,4].reshape(-1,1)\n",
    "\n",
    "n = Z.shape[1]\n",
    "ZX = [np.concatenate((Z[:,i].reshape(-1,1), X[:,i].reshape(-1,1)), axis=1) for i in range(n)]\n",
    "\n",
    "transportPlot(ZX[0], zlim=(-100,100), xlim=(-100,100), nz=20, nx=20, name=f'decTransport_zpred_xpred_val_positronpx_beta={beta}.png', dec=True, title=r'$\\hspace{4}$ OTUS encoder-decoder: $\\tilde{z} \\rightarrow \\tilde{x}$', save_figs=save_figs, img_dir=img_dir)"
   ]
  },
  {
   "cell_type": "markdown",
   "metadata": {},
   "source": [
    "### Positron Energy"
   ]
  },
  {
   "cell_type": "code",
   "execution_count": 10,
   "metadata": {},
   "outputs": [
    {
     "data": {
      "image/png": "[encoded data removed]",
      "text/plain": [
       "<Figure size 576x576 with 3 Axes>"
      ]
     },
     "metadata": {},
     "output_type": "display_data"
    }
   ],
   "source": [
    "#-- Make decoder transport plot from learned latent space--#\n",
    "\n",
    "# Positron energy\n",
    "Z = z_pred_val1[:,7].reshape(-1,1)\n",
    "X = x_pred_val1[:,7].reshape(-1,1)\n",
    "\n",
    "n = Z.shape[1]\n",
    "ZX = [np.concatenate((Z[:,i].reshape(-1,1), X[:,i].reshape(-1,1)), axis=1) for i in range(n)]\n",
    "\n",
    "transportPlot(ZX[0], zlim=(0,400), xlim=(0,400), nz=20, nx=20, name=f'decTransport_zpred_xpred_val_positronE_beta={beta}.png', dec=True, title=r'$\\hspace{4}$ OTUS encoder-decoder: $\\tilde{z} \\rightarrow \\tilde{x}$', save_figs=save_figs, img_dir=img_dir)"
   ]
  },
  {
   "cell_type": "code",
   "execution_count": null,
   "metadata": {},
   "outputs": [],
   "source": []
  }
 ],
 "metadata": {
  "kernelspec": {
   "display_name": "Python 3",
   "language": "python",
   "name": "python3"
  },
  "language_info": {
   "codemirror_mode": {
    "name": "ipython",
    "version": 3
   },
   "file_extension": ".py",
   "mimetype": "text/x-python",
   "name": "python",
   "nbconvert_exporter": "python",
   "pygments_lexer": "ipython3",
   "version": "3.6.9"
  }
 },
 "nbformat": 4,
 "nbformat_minor": 2
}
